{
 "cells": [
  {
   "cell_type": "code",
   "execution_count": 1,
   "metadata": {},
   "outputs": [],
   "source": [
    "import os \n",
    "GITHUB_API_KEY = os.environ.get('GITHUB_API_KEY')"
   ]
  },
  {
   "cell_type": "code",
   "execution_count": 5,
   "metadata": {},
   "outputs": [
    {
     "name": "stdout",
     "output_type": "stream",
     "text": [
      "Issue Description:\n",
      "Certain Approximate Bayes Computation packages provide samples with weights; it would be useful to be able to use `plot_kde` directly for these applications.\n",
      "\n",
      "At least for the `stats.density_utils._fast_kde_2d`, it would be a straightforward modification.\n",
      "\n",
      "Cheers\n",
      "\n",
      "Reactions:\n",
      "url: https://api.github.com/repos/arviz-devs/arviz/issues/2345/reactions\n",
      "total_count: 0\n",
      "+1: 0\n",
      "-1: 0\n",
      "laugh: 0\n",
      "hooray: 0\n",
      "confused: 0\n",
      "heart: 0\n",
      "rocket: 0\n",
      "eyes: 0\n",
      "\n",
      "Comments:\n",
      "Author: tomicapretto\n",
      "Comment:\n",
      "Given how the KDE is implemented in ArviZ, using a grid of points, we first need to consider how to account for the weights in the binning. This seems to be already solved in KDEpy https://github.com/tommyod/KDEpy/blob/master/KDEpy/binning.py\n",
      "---\n"
     ]
    }
   ],
   "source": [
    "import requests\n",
    "\n",
    "def get_comments(url, access_token):\n",
    "    headers = {\n",
    "        'Authorization': f'token {access_token}',\n",
    "        'Accept': 'application/vnd.github.v3+json'\n",
    "    }\n",
    "    \n",
    "    comments = []\n",
    "    \n",
    "    while url:\n",
    "        response = requests.get(url, headers=headers)\n",
    "        \n",
    "        if response.status_code == 200:\n",
    "            page_comments = response.json()\n",
    "            comments.extend(page_comments)\n",
    "            \n",
    "            # Check if there is a next page of comments\n",
    "            next_url = response.links.get('next', {}).get('url')\n",
    "            url = next_url\n",
    "        else:\n",
    "            print(f'Error: {response.status_code}')\n",
    "            break\n",
    "    \n",
    "    return comments\n",
    "\n",
    "# Replace with your GitHub personal access token\n",
    "access_token = GITHUB_API_KEY\n",
    "\n",
    "# GitHub API endpoint for the specific issue\n",
    "issue_url = 'https://api.github.com/repos/arviz-devs/arviz/issues/2345'\n",
    "\n",
    "# Retrieve the issue details\n",
    "response = requests.get(issue_url, headers={'Authorization': f'token {access_token}'})\n",
    "\n",
    "full_string = \"\"\n",
    "\n",
    "if response.status_code == 200:\n",
    "    issue_data = response.json()\n",
    "    \n",
    "    # Extract the issue description\n",
    "    description = issue_data['body']\n",
    "    full_string += description\n",
    "    print(\"Issue Description:\")\n",
    "    print(description)\n",
    "    \n",
    "    # Extract the reactions\n",
    "    reactions = issue_data['reactions']\n",
    "    print(\"\\nReactions:\")\n",
    "    for reaction, count in reactions.items():\n",
    "        print(f\"{reaction}: {count}\")\n",
    "    \n",
    "    # Retrieve the comments recursively\n",
    "    comments_url = issue_data['comments_url']\n",
    "    comments = get_comments(comments_url, access_token)\n",
    "    \n",
    "    print(\"\\nComments:\")\n",
    "    for comment in comments:\n",
    "        print(\"Author:\", comment['user']['login'])\n",
    "        print(\"Comment:\")\n",
    "        print(comment['body'])\n",
    "        print(\"---\")\n",
    "else:\n",
    "    print(f'Error: {response.status_code}')\n"
   ]
  },
  {
   "cell_type": "code",
   "execution_count": 6,
   "metadata": {},
   "outputs": [
    {
     "data": {
      "text/plain": [
       "'Certain Approximate Bayes Computation packages provide samples with weights; it would be useful to be able to use `plot_kde` directly for these applications.\\r\\n\\r\\nAt least for the `stats.density_utils._fast_kde_2d`, it would be a straightforward modification.\\r\\n\\r\\nCheersGiven how the KDE is implemented in ArviZ, using a grid of points, we first need to consider how to account for the weights in the binning. This seems to be already solved in KDEpy https://github.com/tommyod/KDEpy/blob/master/KDEpy/binning.py'"
      ]
     },
     "execution_count": 6,
     "metadata": {},
     "output_type": "execute_result"
    }
   ],
   "source": [
    "full_string"
   ]
  },
  {
   "cell_type": "code",
   "execution_count": null,
   "metadata": {},
   "outputs": [],
   "source": []
  }
 ],
 "metadata": {
  "kernelspec": {
   "display_name": "Python 3",
   "language": "python",
   "name": "python3"
  },
  "language_info": {
   "codemirror_mode": {
    "name": "ipython",
    "version": 3
   },
   "file_extension": ".py",
   "mimetype": "text/x-python",
   "name": "python",
   "nbconvert_exporter": "python",
   "pygments_lexer": "ipython3",
   "version": "3.7.11"
  }
 },
 "nbformat": 4,
 "nbformat_minor": 2
}
